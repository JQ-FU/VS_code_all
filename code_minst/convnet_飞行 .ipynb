{
 "cells": [
  {
   "cell_type": "code",
   "execution_count": 1,
   "metadata": {},
   "outputs": [],
   "source": [
    "import random\n",
    "import torch\n",
    "from sklearn.model_selection import KFold\n",
    "import math\n",
    "from sklearn.metrics import accuracy_score,precision_score,recall_score,f1_score\n",
    "from torch.utils.data import TensorDataset, DataLoader\n",
    "import torch.optim as optim\n",
    "import numpy as np\n",
    "import torch.nn as nn\n",
    "import torch.nn.functional as F"
   ]
  },
  {
   "cell_type": "code",
   "execution_count": 2,
   "metadata": {},
   "outputs": [],
   "source": [
    "class ConvNet(nn.Module):\n",
    "    def __init__(self,h1=96):\n",
    "        # We optimize dropout rate in a convolutional neural network.\n",
    "        super(ConvNet, self).__init__()\n",
    "        self.conv1 = nn.Conv2d(in_channels=1, out_channels=16, kernel_size=7, stride=1, padding=2)\n",
    "        self.conv2 = nn.Conv2d(in_channels=16, out_channels=32, kernel_size=7, stride=1, padding=2)\n",
    "        self.drop1=nn.Dropout2d(p=0.5)\n",
    "        self.fc1 = nn.Linear(9216, h1)#11200\n",
    "        self.drop2=nn.Dropout2d(p=0.5)\n",
    "        self.fc2 = nn.Linear(h1, 1)\n",
    "    def forward(self, x):\n",
    "            x = F.relu(F.max_pool2d(self.conv1(x),kernel_size = 2))\n",
    "            x = F.relu(F.max_pool2d(self.conv2(x),kernel_size = 2))\n",
    "            x = self.drop1(x)\n",
    "            x = x.view(x.size(0),-1)\n",
    "            x = F.relu(self.fc1(x))\n",
    "            x = self.drop2(x)\n",
    "            x = self.fc2(x)\n",
    "            return x "
   ]
  },
  {
   "cell_type": "code",
   "execution_count": 3,
   "metadata": {},
   "outputs": [
    {
     "name": "stdout",
     "output_type": "stream",
     "text": [
      "torch.Size([6344, 1, 30, 200])\n",
      "torch.Size([6589, 1, 30, 200])\n",
      "tensor([0, 1])\n",
      "(12933, 1, 30, 200)\n"
     ]
    }
   ],
   "source": [
    "#导入数据\n",
    "#rest1\n",
    "datapath1=r'D:\\JQ_YJS\\飞行试验数据\\处理后\\rest1.npy' \n",
    "data1=np.load(datapath1)\n",
    "#print(data1.shape)\n",
    "data1=torch.tensor(data1).unsqueeze(1)\n",
    "print(data1.shape)\n",
    "data1=data1.numpy()\n",
    "\n",
    "#rest2\n",
    "datapath2=r'D:\\JQ_YJS\\飞行试验数据\\处理后\\rest2.npy'\n",
    "data2=np.load(datapath2)\n",
    "#print(data2.shape)\n",
    "data2=torch.tensor(data2).unsqueeze(1)\n",
    "print(data2.shape)\n",
    "data2=data2.numpy()\n",
    "data_all=np.concatenate((data1,data2),axis=0)\n",
    "#标签制作\n",
    "label_all = torch.cat([torch.zeros(6344), torch.ones(6589)]).long()  # 标签：前10505个为0，后10505个为1\n",
    "print(label_all.unique())\n",
    "print(data_all.shape)\n"
   ]
  },
  {
   "cell_type": "code",
   "execution_count": null,
   "metadata": {},
   "outputs": [
    {
     "name": "stdout",
     "output_type": "stream",
     "text": [
      "fold号: 1\n"
     ]
    },
    {
     "name": "stderr",
     "output_type": "stream",
     "text": [
      "C:\\Users\\FJQ\\AppData\\Local\\Temp\\ipykernel_10128\\3749196558.py:29: UserWarning: To copy construct from a tensor, it is recommended to use sourceTensor.clone().detach() or sourceTensor.clone().detach().requires_grad_(True), rather than torch.tensor(sourceTensor).\n",
      "  train_dataset = TensorDataset(torch.tensor(epoch_train, dtype=torch.float32), torch.tensor(label_train, dtype=torch.long))\n",
      "C:\\Users\\FJQ\\AppData\\Local\\Temp\\ipykernel_10128\\3749196558.py:30: UserWarning: To copy construct from a tensor, it is recommended to use sourceTensor.clone().detach() or sourceTensor.clone().detach().requires_grad_(True), rather than torch.tensor(sourceTensor).\n",
      "  val_dataset = TensorDataset(torch.tensor(epoch_val, dtype=torch.float32), torch.tensor(label_val, dtype=torch.long))\n"
     ]
    },
    {
     "name": "stdout",
     "output_type": "stream",
     "text": [
      "开始训练!!\n"
     ]
    },
    {
     "name": "stderr",
     "output_type": "stream",
     "text": [
      "d:\\anaconda\\envs\\DL\\lib\\site-packages\\torch\\nn\\functional.py:1374: UserWarning: dropout2d: Received a 2-D input to dropout2d, which is deprecated and will result in an error in a future release. To retain the behavior and silence this warning, please use dropout instead. Note that dropout2d exists to provide channel-wise dropout on inputs with 2 spatial dimensions, a channel dimension, and an optional batch dimension (i.e. 3D or 4D inputs).\n",
      "  warnings.warn(warn_msg)\n"
     ]
    },
    {
     "name": "stdout",
     "output_type": "stream",
     "text": [
      "Epoch:1/100\n",
      "Epoch [1/100], Train Loss: 0.5789\n",
      "$$训练集准确率 accuracy: 0.80614327139942 $$训练集精确率 precision: 0.809260548687051 $$训练集召回率 recall: 0.8049604744834595 $$训练集 F1 评分 f1_score: 0.8051583419063127\n"
     ]
    },
    {
     "name": "stderr",
     "output_type": "stream",
     "text": [
      "d:\\anaconda\\envs\\DL\\lib\\site-packages\\torch\\nn\\functional.py:1374: UserWarning: dropout2d: Received a 2-D input to dropout2d, which is deprecated and will result in an error in a future release. To retain the behavior and silence this warning, please use dropout instead. Note that dropout2d exists to provide channel-wise dropout on inputs with 2 spatial dimensions, a channel dimension, and an optional batch dimension (i.e. 3D or 4D inputs).\n",
      "  warnings.warn(warn_msg)\n"
     ]
    },
    {
     "name": "stdout",
     "output_type": "stream",
     "text": [
      "$$测试集准确率 accuracy: 0.8238021638330757 $$测试集精确率 precision: 0.824495674475578 $$测试集召回率 recall: 0.8240491207951071 $$测试集 F1 评分 f1_score: 0.8237680633075923\n"
     ]
    },
    {
     "name": "stderr",
     "output_type": "stream",
     "text": [
      "d:\\anaconda\\envs\\DL\\lib\\site-packages\\torch\\nn\\functional.py:1374: UserWarning: dropout2d: Received a 2-D input to dropout2d, which is deprecated and will result in an error in a future release. To retain the behavior and silence this warning, please use dropout instead. Note that dropout2d exists to provide channel-wise dropout on inputs with 2 spatial dimensions, a channel dimension, and an optional batch dimension (i.e. 3D or 4D inputs).\n",
      "  warnings.warn(warn_msg)\n"
     ]
    },
    {
     "name": "stdout",
     "output_type": "stream",
     "text": [
      "Epoch:2/100\n",
      "Epoch [2/100], Train Loss: 0.4369\n",
      "$$训练集准确率 accuracy: 0.8395446246375255 $$训练集精确率 precision: 0.8428906434090421 $$训练集召回率 recall: 0.8384189553342829 $$训练集 F1 评分 f1_score: 0.8387709290367578\n",
      "$$测试集准确率 accuracy: 0.8554868624420402 $$测试集精确率 precision: 0.8555338956934302 $$测试集召回率 recall: 0.8555619266055046 $$测试集 F1 评分 f1_score: 0.8554860856878204\n"
     ]
    },
    {
     "name": "stderr",
     "output_type": "stream",
     "text": [
      "d:\\anaconda\\envs\\DL\\lib\\site-packages\\torch\\nn\\functional.py:1374: UserWarning: dropout2d: Received a 2-D input to dropout2d, which is deprecated and will result in an error in a future release. To retain the behavior and silence this warning, please use dropout instead. Note that dropout2d exists to provide channel-wise dropout on inputs with 2 spatial dimensions, a channel dimension, and an optional batch dimension (i.e. 3D or 4D inputs).\n",
      "  warnings.warn(warn_msg)\n",
      "d:\\anaconda\\envs\\DL\\lib\\site-packages\\torch\\nn\\functional.py:1374: UserWarning: dropout2d: Received a 2-D input to dropout2d, which is deprecated and will result in an error in a future release. To retain the behavior and silence this warning, please use dropout instead. Note that dropout2d exists to provide channel-wise dropout on inputs with 2 spatial dimensions, a channel dimension, and an optional batch dimension (i.e. 3D or 4D inputs).\n",
      "  warnings.warn(warn_msg)\n"
     ]
    },
    {
     "name": "stdout",
     "output_type": "stream",
     "text": [
      "Epoch:3/100\n",
      "Epoch [3/100], Train Loss: 0.3677\n",
      "$$训练集准确率 accuracy: 0.8553324025346365 $$训练集精确率 precision: 0.8586625097831522 $$训练集召回率 recall: 0.854250373263719 $$训练集 F1 评分 f1_score: 0.8546670488933898\n",
      "$$测试集准确率 accuracy: 0.8724884080370943 $$测试集精确率 precision: 0.8729275493981377 $$测试集召回率 recall: 0.8726825305810397 $$测试集 F1 评分 f1_score: 0.8724791929833993\n"
     ]
    },
    {
     "name": "stderr",
     "output_type": "stream",
     "text": [
      "d:\\anaconda\\envs\\DL\\lib\\site-packages\\torch\\nn\\functional.py:1374: UserWarning: dropout2d: Received a 2-D input to dropout2d, which is deprecated and will result in an error in a future release. To retain the behavior and silence this warning, please use dropout instead. Note that dropout2d exists to provide channel-wise dropout on inputs with 2 spatial dimensions, a channel dimension, and an optional batch dimension (i.e. 3D or 4D inputs).\n",
      "  warnings.warn(warn_msg)\n",
      "d:\\anaconda\\envs\\DL\\lib\\site-packages\\torch\\nn\\functional.py:1374: UserWarning: dropout2d: Received a 2-D input to dropout2d, which is deprecated and will result in an error in a future release. To retain the behavior and silence this warning, please use dropout instead. Note that dropout2d exists to provide channel-wise dropout on inputs with 2 spatial dimensions, a channel dimension, and an optional batch dimension (i.e. 3D or 4D inputs).\n",
      "  warnings.warn(warn_msg)\n"
     ]
    },
    {
     "name": "stdout",
     "output_type": "stream",
     "text": [
      "Epoch:4/100\n",
      "Epoch [4/100], Train Loss: 0.3298\n",
      "$$训练集准确率 accuracy: 0.8767049726130384 $$训练集精确率 precision: 0.8805269887413236 $$训练集召回率 recall: 0.8756024566901451 $$训练集 F1 评分 f1_score: 0.8761141583540863\n",
      "$$测试集准确率 accuracy: 0.8887171561051005 $$测试集精确率 precision: 0.8897426322743724 $$测试集召回率 recall: 0.8890051605504588 $$测试集 F1 评分 f1_score: 0.8886849802144865\n"
     ]
    },
    {
     "name": "stderr",
     "output_type": "stream",
     "text": [
      "d:\\anaconda\\envs\\DL\\lib\\site-packages\\torch\\nn\\functional.py:1374: UserWarning: dropout2d: Received a 2-D input to dropout2d, which is deprecated and will result in an error in a future release. To retain the behavior and silence this warning, please use dropout instead. Note that dropout2d exists to provide channel-wise dropout on inputs with 2 spatial dimensions, a channel dimension, and an optional batch dimension (i.e. 3D or 4D inputs).\n",
      "  warnings.warn(warn_msg)\n",
      "d:\\anaconda\\envs\\DL\\lib\\site-packages\\torch\\nn\\functional.py:1374: UserWarning: dropout2d: Received a 2-D input to dropout2d, which is deprecated and will result in an error in a future release. To retain the behavior and silence this warning, please use dropout instead. Note that dropout2d exists to provide channel-wise dropout on inputs with 2 spatial dimensions, a channel dimension, and an optional batch dimension (i.e. 3D or 4D inputs).\n",
      "  warnings.warn(warn_msg)\n"
     ]
    },
    {
     "name": "stdout",
     "output_type": "stream",
     "text": [
      "Epoch:5/100\n",
      "Epoch [5/100], Train Loss: 0.3036\n",
      "$$训练集准确率 accuracy: 0.8833637632907314 $$训练集精确率 precision: 0.8869415477625469 $$训练集召回率 recall: 0.882312317499615 $$训练集 F1 评分 f1_score: 0.8828392389772499\n",
      "$$测试集准确率 accuracy: 0.8987635239567233 $$测试集精确率 precision: 0.9001528315762493 $$测试集召回率 recall: 0.8990945145259939 $$测试集 F1 评分 f1_score: 0.898719429386386\n"
     ]
    },
    {
     "name": "stderr",
     "output_type": "stream",
     "text": [
      "d:\\anaconda\\envs\\DL\\lib\\site-packages\\torch\\nn\\functional.py:1374: UserWarning: dropout2d: Received a 2-D input to dropout2d, which is deprecated and will result in an error in a future release. To retain the behavior and silence this warning, please use dropout instead. Note that dropout2d exists to provide channel-wise dropout on inputs with 2 spatial dimensions, a channel dimension, and an optional batch dimension (i.e. 3D or 4D inputs).\n",
      "  warnings.warn(warn_msg)\n",
      "d:\\anaconda\\envs\\DL\\lib\\site-packages\\torch\\nn\\functional.py:1374: UserWarning: dropout2d: Received a 2-D input to dropout2d, which is deprecated and will result in an error in a future release. To retain the behavior and silence this warning, please use dropout instead. Note that dropout2d exists to provide channel-wise dropout on inputs with 2 spatial dimensions, a channel dimension, and an optional batch dimension (i.e. 3D or 4D inputs).\n",
      "  warnings.warn(warn_msg)\n"
     ]
    },
    {
     "name": "stdout",
     "output_type": "stream",
     "text": [
      "Epoch:6/100\n",
      "Epoch [6/100], Train Loss: 0.2852\n",
      "$$训练集准确率 accuracy: 0.8915261518633874 $$训练集精确率 precision: 0.8914688616382056 $$训练集召回率 recall: 0.8916445105767594 $$训练集 F1 评分 f1_score: 0.8915033436515477\n",
      "$$测试集准确率 accuracy: 0.89258114374034 $$测试集精确率 precision: 0.8931756318393906 $$测试集召回率 recall: 0.8923762423547401 $$测试集 F1 评分 f1_score: 0.8924932474312146\n"
     ]
    },
    {
     "name": "stderr",
     "output_type": "stream",
     "text": [
      "d:\\anaconda\\envs\\DL\\lib\\site-packages\\torch\\nn\\functional.py:1374: UserWarning: dropout2d: Received a 2-D input to dropout2d, which is deprecated and will result in an error in a future release. To retain the behavior and silence this warning, please use dropout instead. Note that dropout2d exists to provide channel-wise dropout on inputs with 2 spatial dimensions, a channel dimension, and an optional batch dimension (i.e. 3D or 4D inputs).\n",
      "  warnings.warn(warn_msg)\n",
      "d:\\anaconda\\envs\\DL\\lib\\site-packages\\torch\\nn\\functional.py:1374: UserWarning: dropout2d: Received a 2-D input to dropout2d, which is deprecated and will result in an error in a future release. To retain the behavior and silence this warning, please use dropout instead. Note that dropout2d exists to provide channel-wise dropout on inputs with 2 spatial dimensions, a channel dimension, and an optional batch dimension (i.e. 3D or 4D inputs).\n",
      "  warnings.warn(warn_msg)\n"
     ]
    }
   ],
   "source": [
    "# 创建十折交叉验证\n",
    "kfold = KFold(n_splits=10, shuffle=True, random_state=42)\n",
    "\n",
    "# 保存结果的列表\n",
    "historys = []\n",
    "test_pred = []\n",
    "test_real = []\n",
    "accuracy, precision, recall, f1score = [], [], [], []\n",
    "batchsz = 16\n",
    "num_epochs = 100\n",
    "# 进行十折交叉验证\n",
    "for fold, (train_ind, test_ind) in enumerate(kfold.split(data_all, label_all)):\n",
    "    print('fold号:', fold + 1)\n",
    "\n",
    "    # 每一折验证前都要打乱训练集样本顺序\n",
    "    n = len(train_ind)\n",
    "    A = np.linspace(0, n - 1, n, dtype=int)\n",
    "    random.shuffle(A)\n",
    "\n",
    "    # 构建训练集、验证集、测试集\n",
    "    epoch_train = data_all[train_ind[A[:int(0.8 * n)]]]\n",
    "    epoch_val = data_all[train_ind[A[int(0.8 * n):]]]\n",
    "    epoch_test = data_all[test_ind]\n",
    "    label_train = label_all[train_ind[A[:int(0.8 * n)]]]\n",
    "    label_val = label_all[train_ind[A[int(0.8 * n):]]]\n",
    "    label_test = label_all[test_ind]\n",
    "\n",
    "    # 转换为Tensor并创建DataLoader\n",
    "    train_dataset = TensorDataset(torch.tensor(epoch_train, dtype=torch.float32), torch.tensor(label_train, dtype=torch.long))\n",
    "    val_dataset = TensorDataset(torch.tensor(epoch_val, dtype=torch.float32), torch.tensor(label_val, dtype=torch.long))\n",
    "    \n",
    "    train_loader = DataLoader(train_dataset, batch_size=batchsz, shuffle=True)\n",
    "    val_loader = DataLoader(val_dataset, batch_size=batchsz, shuffle=False)\n",
    "\n",
    "    # 选择、创建模型\n",
    "    model = ConvNet()\n",
    "    #print(model)\n",
    "    device = torch.device('cuda' if torch.cuda.is_available() else 'cpu')\n",
    "    model = model.to(device)\n",
    "\n",
    "    # 配置模型训练\n",
    "    criterion = nn.BCEWithLogitsLoss()  # 使用交叉熵损失\n",
    "    \n",
    "    optimizer = optim.Adam(model.parameters(), lr=1e-4)\n",
    "    \n",
    "\n",
    "    # 开始训练模型\n",
    "    print('开始训练!!')\n",
    "    history = {'train_loss': [], 'val_loss': []}\n",
    "\n",
    "    for epoch in range(num_epochs):  # 训练100个epoch\n",
    "        model.train()\n",
    "        running_loss = 0.0\n",
    "\n",
    "        # 训练阶段\n",
    "        for inputs, targets in train_loader:\n",
    "            #print(f\"训练批次输入数据形状: {inputs.shape}\")\n",
    "            inputs = inputs.to(device)\n",
    "            \n",
    "            targets = targets.to(device)\n",
    "            optimizer.zero_grad()\n",
    "            \n",
    "            outputs = model(inputs)\n",
    "            targets = targets.view(-1).float() \n",
    "            #targets=targets.view(-1,1).float()\n",
    "            loss = criterion(outputs.view(-1), targets)\n",
    "            loss.backward()\n",
    "            optimizer.step()\n",
    "            running_loss += loss.item()\n",
    "\n",
    "        avg_train_loss = running_loss / len(train_loader)\n",
    "        history['train_loss'].append(avg_train_loss)\n",
    "\n",
    "        print('Epoch:{}/{}'.format(epoch+1,num_epochs))\n",
    "        print(f'Epoch [{epoch+1}/{num_epochs}], Train Loss: {avg_train_loss:.4f}')\n",
    "        # 计算训练集的指标\n",
    "        with torch.no_grad():\n",
    "            train_pred = model(torch.tensor(epoch_train, dtype=torch.float32).to(device))\n",
    "            train_pred = (torch.sigmoid(train_pred) > 0.5).cpu().numpy().astype(int)\n",
    "            acc_train = accuracy_score(label_train, train_pred)\n",
    "            pre_train = precision_score(label_train, train_pred, average='macro')\n",
    "            rec_train = recall_score(label_train, train_pred, average='macro')\n",
    "            f1_train = f1_score(label_train, train_pred, average='macro')\n",
    "\n",
    "        # 输出训练集指标\n",
    "        print(f\"$$训练集准确率 accuracy: {acc_train}\",f\"$$训练集精确率 precision: {pre_train}\",f\"$$训练集召回率 recall: {rec_train}\",f\"$$训练集 F1 评分 f1_score: {f1_train}\")\n",
    "        \n",
    "\n",
    "        # 验证阶段\n",
    "        model.eval()\n",
    "        val_loss = 0.0\n",
    "        with torch.no_grad():\n",
    "            for inputs, targets in val_loader:\n",
    "                inputs = inputs.to(device)\n",
    "            \n",
    "                targets = targets.to(device)\n",
    "                outputs = model(inputs)\n",
    "                #targets=targets.view(-1,1).float()\n",
    "                targets = targets.view(-1).float() \n",
    "                loss = criterion(outputs.view(-1), targets)\n",
    "                val_loss += loss.item()\n",
    "\n",
    "        avg_val_loss = val_loss / len(val_loader)\n",
    "        \n",
    "        history['val_loss'].append(avg_val_loss)\n",
    "\n",
    "        # 保存训练记录\n",
    "        historys.append(history)\n",
    "\n",
    "        # 计算、保存测试结果\n",
    "        model.eval()\n",
    "        with torch.no_grad():\n",
    "            pred_test = model(torch.tensor(epoch_test, dtype=torch.float32).to(device))\n",
    "            pred_test = (torch.sigmoid(pred_test) > 0.5).cpu().numpy().astype(int)  # 修改：使用sigmoid函数并阈值化\n",
    "\n",
    "        # 保存预测结果和真实结果\n",
    "        test_pred.append(pred_test)\n",
    "        test_real.append(label_test)\n",
    "\n",
    "        # 计算准确率，精确率，召回率，F1评分\n",
    "        acc = accuracy_score(label_test, pred_test)\n",
    "        pre = precision_score(label_test, pred_test, average='macro')\n",
    "        rec = recall_score(label_test, pred_test, average='macro')\n",
    "        f1 = f1_score(label_test, pred_test, average='macro')\n",
    "        \n",
    "        accuracy.append(acc)\n",
    "        precision.append(pre)\n",
    "        recall.append(rec)\n",
    "        f1score.append(f1)\n",
    "        \n",
    "        print(f\"$$测试集准确率 accuracy: {acc}\",f\"$$测试集精确率 precision: {pre}\",f\"$$测试集召回率 recall: {rec}\",f\"$$测试集 F1 评分 f1_score: {f1}\")\n",
    "        \n",
    "\n",
    "# 将每一折 history 中误差结果保存（训练集和测试集，用于反映训练过程）    \n",
    "loss_train = []\n",
    "loss_val = []\n",
    "for history_s in historys:\n",
    "    loss_val.append(history_s['val_loss'])\n",
    "    loss_train.append(history_s['train_loss'])"
   ]
  }
 ],
 "metadata": {
  "kernelspec": {
   "display_name": "DL",
   "language": "python",
   "name": "python3"
  },
  "language_info": {
   "codemirror_mode": {
    "name": "ipython",
    "version": 3
   },
   "file_extension": ".py",
   "mimetype": "text/x-python",
   "name": "python",
   "nbconvert_exporter": "python",
   "pygments_lexer": "ipython3",
   "version": "3.10.14"
  }
 },
 "nbformat": 4,
 "nbformat_minor": 2
}
