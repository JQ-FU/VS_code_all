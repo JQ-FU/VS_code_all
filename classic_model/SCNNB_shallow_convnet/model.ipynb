{
 "cells": [
  {
   "cell_type": "code",
   "execution_count": 1,
   "metadata": {},
   "outputs": [],
   "source": [
    "import torch.nn as nn\n",
    "import torch.nn.functional as F"
   ]
  },
  {
   "cell_type": "code",
   "execution_count": null,
   "metadata": {},
   "outputs": [],
   "source": [
    "class SCNNB(nn.Module):\n",
    "    def __init__(self):\n",
    "        super(SCNNB, self).__init__()\n",
    "\n",
    "        self.conv1 = nn.Conv2d(1,32,kernel_size=(3,3))\n",
    "        self.BN1 = nn.BatchNorm2d(32,False)\n",
    "        self.pooling1 = nn.MaxPool2d(2,2)\n",
    "\n",
    "        self.conv2 = nn.Conv2d(32,64,kernel_size=(3,3))\n",
    "        self.BN2 = nn.BatchNorm2d(64,False)\n",
    "        self.pooling2 = nn.MaxPool2d(2,2)\n",
    "\n",
    "        self.fc = nn.Linear(3136,10)\n",
    "        \n",
    "    def forward(self,x):\n",
    "        x = self.pooling1(F.relu(self.BN1(self.conv1(x))))\n",
    "        x = self.pooling2(F.relu(self.BN2(self.conv2(x))))\n",
    "        x = F.softmax(F.dropout(self.fc(x),0.5))\n",
    "        return x"
   ]
  }
 ],
 "metadata": {
  "kernelspec": {
   "display_name": "DL",
   "language": "python",
   "name": "python3"
  },
  "language_info": {
   "codemirror_mode": {
    "name": "ipython",
    "version": 3
   },
   "file_extension": ".py",
   "mimetype": "text/x-python",
   "name": "python",
   "nbconvert_exporter": "python",
   "pygments_lexer": "ipython3",
   "version": "3.10.14"
  }
 },
 "nbformat": 4,
 "nbformat_minor": 2
}
